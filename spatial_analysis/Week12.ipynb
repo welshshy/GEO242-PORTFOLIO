{
  "nbformat": 4,
  "nbformat_minor": 0,
  "metadata": {
    "colab": {
      "provenance": [],
      "toc_visible": true,
      "include_colab_link": true
    },
    "kernelspec": {
      "name": "python3",
      "display_name": "Python 3"
    },
    "language_info": {
      "name": "python"
    }
  },
  "cells": [
    {
      "cell_type": "markdown",
      "metadata": {
        "id": "view-in-github",
        "colab_type": "text"
      },
      "source": [
        "<a href=\"https://colab.research.google.com/github/welshshy/GEO242-PORTFOLIO/blob/main/spatial_analysis/Week12.ipynb\" target=\"_parent\"><img src=\"https://colab.research.google.com/assets/colab-badge.svg\" alt=\"Open In Colab\"/></a>"
      ]
    },
    {
      "cell_type": "markdown",
      "source": [
        "# **Working with U.S. Census Data for Spatial Analysis**"
      ],
      "metadata": {
        "id": "C0ymCPR5aSHN"
      }
    },
    {
      "cell_type": "markdown",
      "source": [
        "🚀 Created by [Evan \"Shy\" Welsh]\n",
        "\n",
        "[11/13/2024]"
      ],
      "metadata": {
        "id": "Pt_OREXFPvkr"
      }
    },
    {
      "cell_type": "markdown",
      "source": [
        "## **Get ready to start**\n",
        "\n",
        "- Click **`File/Save a copy in Drive`** to save a copy of this notebook to my own Google Drive"
      ],
      "metadata": {
        "id": "CMQN_pgaHVLO"
      }
    },
    {
      "cell_type": "markdown",
      "source": [
        "## **Overview**\n",
        "\n",
        "- This notebook includes two parts and two maps\n",
        "  - Part 1: A map showing the school-age children (5-17 years old) per 1,000 people in Ohio at census tract level\n",
        "  - Part 2: A map showing a normalized metric (e.g., per 1,000 people, population density) for the study area of your group project using U.S. Census Data\n",
        "    - Make sure you follow the [requirements](https://miamioh.instructure.com/courses/218994/assignments/2929353) on geographic unit and datasets to be used carefully"
      ],
      "metadata": {
        "id": "6tKmlbnzny_I"
      }
    },
    {
      "cell_type": "markdown",
      "source": [
        "## **Part 1: Map of the school-age children per 1,000 people in Ohio**"
      ],
      "metadata": {
        "id": "knQezaT0XILw"
      }
    },
    {
      "cell_type": "markdown",
      "source": [
        "- Geographic information of this map\n",
        "  - This map includes all census tracts in the State of Ohio ([U.S. Census TIGER/Line Geodatabase](https://www.census.gov/geographies/mapping-files/time-series/geo/tiger-geodatabase-file.html) 2023 version)\n",
        "- Data used to derive this map\n",
        "  - U.S. Census American Community Survey (ACS) 5- Year Estimates on Age and Sex\n",
        "    - **Table S0101**"
      ],
      "metadata": {
        "id": "33i7oT64zk0m"
      }
    },
    {
      "cell_type": "markdown",
      "source": [
        "- Use the checklist below to make sure our map contains all necessary map content and is formatted correctly\n",
        "\n",
        "  - [ ] Contains a title with byline (i.e., by [your name]) and source of data\n",
        "  - [ ] Use a larger and bold font type for the title\n",
        "  - [ ] Contains a layer of school-age children per 1,000 people\n",
        "  - [ ] School-age children per 1,000 people layer mapped in a choropleth style\n",
        "  - [ ] Use a very light color and thin width of census tract outlines\n",
        "  - [ ] Contains a layer of county boundaries\n",
        "  - [ ] Use a light color and a relatively thick width (e.g., 1 pt) of **county** outlines\n",
        "  - [ ] Use a light-colored background map (e.g., Human Geography)\n",
        "  - [ ] Contains a map scale\n",
        "  - [ ] Contains a legend\n",
        "  - [ ] Uses a balanced layout for all map elements\n",
        "    - [ ] Map stays in the center of layout\n",
        "    - [ ] Font size of title is appropriate (not too big or too small)\n",
        "    - [ ] Legend and map scale bar are placed appropriately to avoid an overlap with the map layers\n",
        "    - [ ] Legend and map scale bar have an appropriate size (big enough to read information, small enough to reserve most of space for map layers"
      ],
      "metadata": {
        "id": "-NOVGCtkXOm-"
      }
    },
    {
      "cell_type": "markdown",
      "source": [
        "- After finishing the two steps below, a link can be created to correctly rendered in Google Colab\n",
        "  - Deleted **`/view?usp=sharing`** at the end of the link\n",
        "  - Replaced **`/file/d/`** with **`/uc?export=view&id=`**\n",
        "\n",
        "- The map can be inserted in Google Colab following the syntax [from here](https://www.markdownguide.org/cheat-sheet/)\n",
        "\n",
        "\n",
        "![school age children OH](https://drive.google.com/uc?export=view&id=1nG7CbB60wJMDStdp3n5O7BLXEqVu_xY9)"
      ],
      "metadata": {
        "id": "pEt8eG3wXiio"
      }
    },
    {
      "cell_type": "markdown",
      "source": [
        "## **Part 2: [Population Density Per Square Kilometer]**"
      ],
      "metadata": {
        "id": "zNWPkAxUXnEt"
      }
    },
    {
      "cell_type": "markdown",
      "source": [
        "- Geographic information of this map\n",
        "  - This map includes all [insert your area of interest and scale following the example shown in Part 1] ([U.S. Census TIGER/Line Geodatabase](https://www.census.gov/geographies/mapping-files/time-series/geo/tiger-geodatabase-file.html) 2023 version)\n",
        "- Data used to derive this map\n",
        "  - [Update with the name of your dataset following the example showin in Part 1]\n",
        "    - **[Update your table ID]**"
      ],
      "metadata": {
        "id": "a8J1uDYO1PAw"
      }
    },
    {
      "cell_type": "markdown",
      "source": [
        "- Use the checklist below to make sure our map contains all necessary map content and is formatted correctly\n",
        "\n",
        "  - [ ] Contains a title with byline (i.e., by [your name]) and source of data\n",
        "  - [ ] Use a larger and bold font type for the title\n",
        "  - [ ] Contains a layer of the normalizled metric you derived from data from U.S. Census\n",
        "  - [ ] Normalized metric mapped in a choropleth style\n",
        "  - [ ] Use a very light color and thin width of the geographical unit at a finer scale (e.g., census tract, block group)\n",
        "  - [ ] Use a light color and a relatively thick width (e.g., 1 pt) of **county** outlines\n",
        "  - [ ] Use a light-colored background map (e.g., Human Geography)\n",
        "  - [ ] Contains a map scale\n",
        "  - [ ] Contains a legend\n",
        "  - [ ] Uses a balanced layout for all map elements\n",
        "    - [ ] Map stays in the center of layout\n",
        "    - [ ] Font size of title is appropriate (not too big or too small)\n",
        "    - [ ] Legend and map scale bar are placed appropriately to avoid an overlap with the map layers\n",
        "    - [ ] Legend and map scale bar have an appropriate size (big enough to read information, small enough to reserve most of space for map layers"
      ],
      "metadata": {
        "id": "YXl147551pS0"
      }
    },
    {
      "cell_type": "markdown",
      "source": [
        "\n",
        "- After finishing the two steps below, a link can be created to correctly rendered in Google Colab\n",
        "  - Deleted **`/view?usp=sharing`** at the end of the link\n",
        "  - Replaced **`/file/d/`** with **`/uc?export=view&id=`**\n",
        "\n",
        "\n",
        "- The map can be inserted in Google Colab following the syntax [from here](https://www.markdownguide.org/cheat-sheet/)\n",
        "\n",
        "\n",
        "![normalized metric](https://drive.google.com/uc?export=view&id=1Mz3h_s8Qf8lXDiuxfw66iP2LT98WG8jr)"
      ],
      "metadata": {
        "id": "jYLYwzFs2Ma_"
      }
    },
    {
      "cell_type": "markdown",
      "source": [
        "## **Save and share this notebook**\n",
        "\n",
        "- **Save the final version of this notebook to your GitHub repository of GEO 441/541B**\n",
        "  - You can place this notebook under a new folder of `spatial_analysis`\n",
        "  - Update your README document to link the copy of this notebook in the GitHub repository\n",
        "- Submit a link to your GitHub for Week 12 assignment\n"
      ],
      "metadata": {
        "id": "kkgukjDcXsqC"
      }
    },
    {
      "cell_type": "markdown",
      "source": [
        "## **Reference**\n",
        "\n",
        "- [Markdown cheat sheet](https://www.markdownguide.org/cheat-sheet/)\n",
        "- [Insert other references]"
      ],
      "metadata": {
        "id": "fvMbEX89YLeY"
      }
    }
  ]
}