{
  "nbformat": 4,
  "nbformat_minor": 0,
  "metadata": {
    "colab": {
      "provenance": [],
      "include_colab_link": true
    },
    "kernelspec": {
      "name": "python3",
      "display_name": "Python 3"
    },
    "language_info": {
      "name": "python"
    }
  },
  "cells": [
    {
      "cell_type": "markdown",
      "metadata": {
        "id": "view-in-github",
        "colab_type": "text"
      },
      "source": [
        "<a href=\"https://colab.research.google.com/github/welshshy/GEO242-PORTFOLIO/blob/main/basic-mapping/Copy_of_week_01_assignment_template.ipynb\" target=\"_parent\"><img src=\"https://colab.research.google.com/assets/colab-badge.svg\" alt=\"Open In Colab\"/></a>"
      ]
    },
    {
      "cell_type": "markdown",
      "source": [
        "## **GEO 242A Week 1 Assignment: Mental Map**"
      ],
      "metadata": {
        "id": "C0ymCPR5aSHN"
      }
    },
    {
      "cell_type": "markdown",
      "source": [
        "🚀 Created by [Your Name]\n",
        "\n",
        "mm/dd/yyyy"
      ],
      "metadata": {
        "id": "Pt_OREXFPvkr"
      }
    },
    {
      "cell_type": "markdown",
      "source": [
        "### **Get ready to start**\n",
        "\n",
        "- Use **`File\\Save a copy in Drive`** to make a copy of this notebook in my own Google Drive\n",
        "- By default, this notebooks will be saved to a new folder called **`Colab`** under root directory of my Google Drive"
      ],
      "metadata": {
        "id": "v84Fkx0LHARM"
      }
    },
    {
      "cell_type": "markdown",
      "source": [
        "### **My mental map of Miami University**\n",
        "\n",
        "1. **Create a mental map**\n",
        "   - Draw a mental map of Miami University Oxford Campus and/or City of Oxford on a piece of paper (or in your computer)\n",
        "\n",
        "2. **Share map**\n",
        "   - Take a picture of my mental map if drawn on paper\n",
        "   - Upload the picture of my mental map to my Google Drive folder for Week 1 assignment\n",
        "   - Change Share privilege to make this file viewable by anyone with a link\n",
        "   - Copy the sharable link\n",
        "\n",
        "3. **Obtain a sharable link**\n",
        "\n",
        "   - The default link I get for this picture file cannot be directly used in Notebook to show the picture correctly\n",
        "   - I made some changes to the default sharable link:\n",
        "    - Keep the **`1A2B3C4D5E6F7G8H9I0J`** part because this is the unique file ID for the picture\n",
        "    - Deleted **`/view?usp=sharing`** at the end of the link\n",
        "    - Replaced **`/file/d/`** with **`/uc?export=view&id=`**\n",
        "   - Here is an example I referred to:\n",
        "    - Default sharable link\n",
        "```\n",
        "https://drive.google.com/file/d/1A2B3C4D5E6F7G8H9I0J/view?usp=sharing\n",
        "```\n",
        "    - The direct link for view from this example would be\n",
        "```\n",
        "https://drive.google.com/uc?export=view&id=1A2B3C4D5E6F7G8H9I0J\n",
        "```\n",
        "   - The link below is the correct one I need to use in the next section\n",
        "```\n",
        "[https://drive.google.com/file/d/1smslQkAQwVmU4--xcf0XRVqTufdBi-zW/view?usp=sharing]\n",
        "```\n",
        "\n",
        "\n",
        "4. **Mental map**\n",
        "\n",
        "   ![Map](https://drive.google.com/u/1/drive-viewer/AKGpihZzE0A2tl9zsTWPYIKbTBTPCkWPhlUyO8JqLTsGJojLq8fiZ1rAwxOWB2_t8cJANm7xaC7BcZF7hRYY7FOFgUXpPiJinvMdFfc=s1600-rw-v1) <!-- Replace link with the link generated above to insert your mental map -->"
      ],
      "metadata": {
        "id": "WVs4J1jQbESU"
      }
    },
    {
      "cell_type": "markdown",
      "source": [
        "### **Reflection on my first experience with QGIS**\n",
        "\n",
        "- Here is a table showing things that I feel excited and challenging in my first experience working in QGIS\n",
        "\n",
        "| Things I'm excited about      | Things challenging for me  |\n",
        "| ----------------------------- | -------------------------- |\n",
        "| Making maps                   | general navigation skill  |\n",
        "| Getting more into programming     | my memory is bad occasionally    |\n",
        "\n",
        "\n",
        "- Here is how I rate my first experience working in QGIS\n",
        "  - Data important and management\n",
        "    - [Write a few sentences to describe your use of these functionalities in QGIS]\n",
        "  - Navigate the software using its GUI\n",
        "    - [Write a few sentences to describe your use of these functionalities in QGIS]"
      ],
      "metadata": {
        "id": "i4RTLellbUh7"
      }
    },
    {
      "cell_type": "markdown",
      "source": [
        "### **Save and share this notebook**\n",
        "\n",
        "- I made this notebook viewable by anyone with the link\n",
        "\n",
        "![Share Notebook](https://drive.google.com/uc?export=view&id=1K4a3saeAXrzKcB4fkivkjUmLLWJ1R7oS)\n",
        "\n",
        "- Then I copied this link as my submission to Assignment Week 1"
      ],
      "metadata": {
        "id": "kkgukjDcXsqC"
      }
    },
    {
      "cell_type": "markdown",
      "source": [
        "### **Reference**\n",
        "\n",
        "- [Markdown cheat sheet](https://www.markdownguide.org/cheat-sheet/)\n",
        "- [Insert other references]"
      ],
      "metadata": {
        "id": "fvMbEX89YLeY"
      }
    }
  ]
}