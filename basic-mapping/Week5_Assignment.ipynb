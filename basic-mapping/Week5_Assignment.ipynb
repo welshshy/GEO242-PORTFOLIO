{
  "nbformat": 4,
  "nbformat_minor": 0,
  "metadata": {
    "colab": {
      "provenance": [],
      "include_colab_link": true
    },
    "kernelspec": {
      "name": "python3",
      "display_name": "Python 3"
    },
    "language_info": {
      "name": "python"
    }
  },
  "cells": [
    {
      "cell_type": "markdown",
      "metadata": {
        "id": "view-in-github",
        "colab_type": "text"
      },
      "source": [
        "<a href=\"https://colab.research.google.com/github/welshshy/GEO242-PORTFOLIO/blob/main/basic-mapping/Week5_Assignment.ipynb\" target=\"_parent\"><img src=\"https://colab.research.google.com/assets/colab-badge.svg\" alt=\"Open In Colab\"/></a>"
      ]
    },
    {
      "cell_type": "markdown",
      "source": [
        "# **Query and filter spatial data for new insights**"
      ],
      "metadata": {
        "id": "C0ymCPR5aSHN"
      }
    },
    {
      "cell_type": "markdown",
      "source": [
        "🚀 Created by [Evan Welsh]\n",
        "\n",
        "[09/23/2024]"
      ],
      "metadata": {
        "id": "Pt_OREXFPvkr"
      }
    },
    {
      "cell_type": "markdown",
      "source": [
        "## **Get ready to start**\n",
        "\n",
        "- Click **`File/Save a copy in Drive`** to save a copy of this notebook to my own Google Drive"
      ],
      "metadata": {
        "id": "CMQN_pgaHVLO"
      }
    },
    {
      "cell_type": "markdown",
      "source": [
        "## **Overview**\n",
        "\n",
        "This notebook features our latest work in conducting table queries, selections, making new datasets with table joins, and turning queried datasets into meaningful maps. You will find the following deliverables in this notebook:\n",
        "\n",
        "- A map showing High Population Counties with High Old/Young Ratios for counties in the Contiguous U.S. using the 2000 U.S. Census data\n",
        "- A map showing the Soil Fertility in a portion of Macon County, North Carolina"
      ],
      "metadata": {
        "id": "6tKmlbnzny_I"
      }
    },
    {
      "cell_type": "markdown",
      "source": [
        "## **Map old/young ratios of counties in Contiguous U.S.**\n"
      ],
      "metadata": {
        "id": "WVs4J1jQbESU"
      }
    },
    {
      "cell_type": "markdown",
      "source": [
        "- We followed the video guides below to finish this map:\n",
        "  - [Compute the age index](https://miamioh.zoom.us/rec/share/gbv1MwDUIBDgMCU5BeZzCZ7ttRkuyX4WXrAugxTLECbadQtnavmZM9wraIkfA2Ch.ot2069IuLkwkTSoV?startTime=1727099623000)\n",
        "    - Passcode: 1KQ.yK+*\n",
        "  - [Filter to high age index counties](https://miamioh.zoom.us/rec/share/gbv1MwDUIBDgMCU5BeZzCZ7ttRkuyX4WXrAugxTLECbadQtnavmZM9wraIkfA2Ch.ot2069IuLkwkTSoV?startTime=1727099307000)\n",
        "    - Passcode: 1KQ.yK+*\n",
        "  - [Change symbology of map layers](https://miamioh.zoom.us/rec/share/gbv1MwDUIBDgMCU5BeZzCZ7ttRkuyX4WXrAugxTLECbadQtnavmZM9wraIkfA2Ch.ot2069IuLkwkTSoV?startTime=1727099623000)\n",
        "    - Passcode: 1KQ.yK+*\n",
        "  - [Finish mapping](https://miamioh.zoom.us/rec/share/gbv1MwDUIBDgMCU5BeZzCZ7ttRkuyX4WXrAugxTLECbadQtnavmZM9wraIkfA2Ch.ot2069IuLkwkTSoV?startTime=1727099938000)\n",
        "    - Passcode: 1KQ.yK+*"
      ],
      "metadata": {
        "id": "RZR1cuI2ScTP"
      }
    },
    {
      "cell_type": "markdown",
      "source": [
        "- We computed the **Age Index** using a ratio between **old** and **young** with data of population over 65 years old and population younger than 21 years old and mapped this index across all counties in the Contiguous U.S.\n",
        "  - Equation for Age Index\n",
        "\n",
        "$$\n",
        "Age\\,Index = \\frac{People\\,over\\,65}{People\\,21\\,and\\,under}\\times 100\n",
        "$$\n",
        "\n",
        "- We selected counties that have a ratio value that is greater than 85 and a total population that is over 150,000.\n",
        "  - A new map layer is created for this map\n",
        "- We used the checklist below to make sure our map contains all necessary map content and is formatted correctly\n",
        "\n",
        "  - [ ] Contains a title with byline (i.e., by [your name])\n",
        "  - [ ] Use a larger and bold font type for the title\n",
        "  - [ ] Contains one layer colored in bright yellow for **Old Counties**\n",
        "  - [ ] Contains a layer of all Contiguous U.S. counties with Age Index shown as a choropleth map\n",
        "  - [ ] Uses an **orange** color for the outline of **Old Counties** layer\n",
        "  - [ ] Uses a **transparent** color or **zero** outline width for the outline of **US Counties** layer\n",
        "  - [ ] Uses **Age Index** as the subleading of **US Counties** layer\n",
        "  - [ ] Lists the names of counties with Age Index > 85 in the map\n",
        "  - [ ] Contains a map scale\n",
        "  - [ ] Contains a legend\n",
        "  - [ ] Contains a north arrow\n",
        "  - [ ] Uses a balanced layout for all map elements\n",
        "    - [ ] Map stays in the center of layout\n",
        "    - [ ] Font size of title is appropriate (not too big or too small)\n",
        "    - [ ] Font size of extra information (counties w/ Age Index > 85) is small\n",
        "    - [ ] Positions of legend and map scale bar are near the bottom\n",
        "    - [ ] Legend, map scale bar, and north arrow has an appropriate size (big enough to read information, small enough to reserve most of space for map layers"
      ],
      "metadata": {
        "id": "bXB_pi-aPTOT"
      }
    },
    {
      "cell_type": "markdown",
      "source": [
        "[Age Index Map Link](https://drive.google.com/file/d/1t5ttNfVFZLjzAskXzuIg4lvrNq-RabQj/view?usp=sharing)\n",
        "\n",
        "- After finishing the two steps below, a link can be created to correctly rendered in Google Colab\n",
        "  - Deleted **`/view?usp=sharing`** at the end of the link\n",
        "  - Replaced **`/file/d/`** with **`/uc?export=view&id=`**\n",
        "\n",
        "- The map can be inserted in Google Colab following the syntax [from here](https://www.markdownguide.org/cheat-sheet/)\n",
        "\n",
        "\n",
        "![oldest counties map](https://drive.google.com/uc?export=view&id=1t5ttNfVFZLjzAskXzuIg4lvrNq-RabQj)"
      ],
      "metadata": {
        "id": "wkJqun7umRRk"
      }
    },
    {
      "cell_type": "markdown",
      "source": [
        "### **Interpreting the map**\n",
        "\n",
        "- The map above found the following counties with the highest Age Index\n",
        "\n",
        "| State      | # County with Agen Index > 85  |\n",
        "| ------- | --------------------- |\n",
        "| [Charlotte, FL (3132)]     | [189]  |\n",
        "| [Llano, TX (0440)]     | [164]  |\n",
        "| [Sarasota, FL (3128)]     | [164]  |"
      ],
      "metadata": {
        "id": "d8B4v6BIJYRw"
      }
    },
    {
      "cell_type": "markdown",
      "source": [
        "![US regions](https://www.legendsofamerica.com/wp-content/uploads/2020/03/UnitedStatesRegions.jpg)\n",
        "\n",
        "- In addition to states above, these regions also showed a relatively high (> 60) Age Index (refer to the map above for names of regions)\n",
        "  - Great Plains (ND, SD, NE, KS, OK)\n",
        "  - South (AR, LA, MS, AL, TN, KY, WV, VA, NC, SC, GA, FL)\n",
        "  - Southwest (NV, AZ, NM, TX)"
      ],
      "metadata": {
        "id": "KsimmmzQKbwM"
      }
    },
    {
      "cell_type": "markdown",
      "source": [
        "## **Save and share this notebook**\n",
        "\n",
        "- Make this notebook viewable by anyone with the link and submit the link to Canvas as Week 5 assignment"
      ],
      "metadata": {
        "id": "kkgukjDcXsqC"
      }
    },
    {
      "cell_type": "markdown",
      "source": [
        "## **Reference**\n",
        "\n",
        "- [Markdown cheat sheet](https://www.markdownguide.org/cheat-sheet/)\n",
        "- [Insert other references]"
      ],
      "metadata": {
        "id": "fvMbEX89YLeY"
      }
    }
  ]
}